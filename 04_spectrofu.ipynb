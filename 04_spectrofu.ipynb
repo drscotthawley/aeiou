{
 "cells": [
  {
   "cell_type": "code",
   "execution_count": null,
   "id": "3c35e2cf",
   "metadata": {},
   "outputs": [],
   "source": [
    "%load_ext autoreload\n",
    "%autoreload 2"
   ]
  },
  {
   "cell_type": "code",
   "execution_count": null,
   "id": "9d2cefc8",
   "metadata": {},
   "outputs": [],
   "source": [
    "#| default_exp spectrofu"
   ]
  },
  {
   "cell_type": "markdown",
   "id": "5d79fbe5",
   "metadata": {},
   "source": [
    "# spectrofu"
   ]
  },
  {
   "cell_type": "markdown",
   "id": "262d835a",
   "metadata": {},
   "source": [
    "> Command-line script that preprocesses a dataset of audio and turns it into spectrograms. \n",
    "\n",
    "Assumes pre-chunking e.g. via `chunkadelic` --- This is pretty much a simplified duplicate of `chunkadelic`.\n",
    "\n",
    "Note: Duplicates the directory structure(s) referenced by input paths. "
   ]
  },
  {
   "cell_type": "code",
   "execution_count": null,
   "id": "a023138f",
   "metadata": {},
   "outputs": [],
   "source": [
    "#|hide\n",
    "from nbdev.showdoc import *"
   ]
  },
  {
   "cell_type": "code",
   "execution_count": null,
   "id": "72c40976",
   "metadata": {},
   "outputs": [],
   "source": [
    "#|all_slow"
   ]
  },
  {
   "cell_type": "code",
   "execution_count": null,
   "id": "5df76a87",
   "metadata": {},
   "outputs": [],
   "source": [
    "#|export\n",
    "import argparse \n",
    "from glob import glob \n",
    "from pathlib import Path\n",
    "import os \n",
    "import math\n",
    "from multiprocessing import Pool, cpu_count, Barrier\n",
    "from functools import partial\n",
    "from tqdm.contrib.concurrent import process_map  \n",
    "import torch\n",
    "import torchaudio\n",
    "from aeiou.core import is_silence, load_audio, makedir, get_audio_filenames\n",
    "from aeiou.viz import audio_spectrogram_image"
   ]
  },
  {
   "cell_type": "code",
   "execution_count": null,
   "id": "b662abdf",
   "metadata": {},
   "outputs": [],
   "source": [
    "#|export\n",
    "def save_stft(\n",
    "    audio:torch.tensor,  # long audio file to be chunked\n",
    "    new_filename:str    # stem of new filename(s) to be output as spectrogram images\n",
    "    ):\n",
    "    \"coverts audio to stft image and saves it\"\n",
    "    im = audio_spectrogram_image(audio, justimage=True)  # should already be a PIL image\n",
    "    print(f\"saving new file = {new_filename}\")\n",
    "    im.save(new_filename)\n",
    "    return"
   ]
  },
  {
   "cell_type": "code",
   "execution_count": null,
   "id": "56e01f54",
   "metadata": {},
   "outputs": [],
   "source": [
    "#|export\n",
    "def process_one_file(\n",
    "    filenames:list,      # list of filenames from which we'll pick one\n",
    "    args,                # output of argparse\n",
    "    file_ind             # index from filenames list to read from\n",
    "    ):\n",
    "    \"this turns one audio file into a spectrogram.  left channel only for now\"\n",
    "    filename = filenames[file_ind]  # this is actually input_path+/+filename\n",
    "    output_path, input_paths = args.output_path, args.input_paths\n",
    "    new_filename = None\n",
    "    \n",
    "    for ipath in input_paths: # set up the output filename & any folders it needs\n",
    "        if ipath in filename: # this just avoids repeats/ weirdness.\n",
    "            last_ipath = ipath.split('/')[-1]           # get the last part of ipath\n",
    "            clean_filename = filename.replace(ipath,'') # remove all of ipath from the front of filename\n",
    "            new_filename = f\"{output_path}/{last_ipath}/{clean_filename}\".replace('//','/')\n",
    "            new_filename = str(Path(new_filename).with_suffix(\".png\"))  # give it file extension for image\n",
    "            makedir(os.path.dirname(new_filename))      # we might need to make a directory for the output file\n",
    "            break\n",
    "    \n",
    "    if new_filename is None:\n",
    "        print(f\"ERROR: Something went wrong with name of input file {filename}. Skipping.\",flush=True) \n",
    "        return \n",
    "\n",
    "    try:\n",
    "        audio = load_audio(filename, sr=args.sr)\n",
    "        save_stft(audio, new_filename)\n",
    "    except Exception as e: \n",
    "        print(f\"Some kind of error happened with {filename}, either loading or writing images. Skipping.\", flush=True)\n",
    "\n",
    "    return\n",
    "\n",
    "\n",
    "def main():\n",
    "    parser = argparse.ArgumentParser(formatter_class=argparse.ArgumentDefaultsHelpFormatter)\n",
    "    parser.add_argument('--sr', type=int, default=48000, help='Output sample rate')\n",
    "    parser.add_argument('--workers', type=int, default=min(32, os.cpu_count() + 4), help='Maximum number of workers to use (default: all)')\n",
    "    parser.add_argument('output_path', help='Path of output for spectrogram-ified data')\n",
    "    parser.add_argument('input_paths', nargs='+', help='Path(s) of a file or a folder of files. (recursive)')\n",
    "    args = parser.parse_args()\n",
    "\n",
    "    print(f\"  output_path = {args.output_path}\")\n",
    "\n",
    "    print(\"Getting list of input filenames\")\n",
    "    filenames = get_audio_filenames(args.input_paths) \n",
    "    n = len(filenames)   \n",
    "    print(f\"  Got {n} input filenames\") \n",
    "\n",
    "    print(\"Processing files (in parallel)\")\n",
    "    wrapper = partial(process_one_file, filenames, args)\n",
    "    r = process_map(wrapper, range(0, n), chunksize=1, max_workers=args.workers)  # different chunksize used by tqdm. max_workers is to avoid annoying other ppl\n",
    "\n",
    "    print(\"Finished\")"
   ]
  },
  {
   "cell_type": "code",
   "execution_count": null,
   "id": "a159380a",
   "metadata": {},
   "outputs": [
    {
     "name": "stdout",
     "output_type": "stream",
     "text": [
      "usage: spectrofu [-h] [--sr SR] [--workers WORKERS]\n",
      "                 output_path input_paths [input_paths ...]\n",
      "\n",
      "positional arguments:\n",
      "  output_path        Path of output for spectrogram-ified data\n",
      "  input_paths        Path(s) of a file or a folder of files. (recursive)\n",
      "\n",
      "options:\n",
      "  -h, --help         show this help message and exit\n",
      "  --sr SR            Output sample rate (default: 48000)\n",
      "  --workers WORKERS  Maximum number of workers to use (default: all) (default:\n",
      "                     14)\n"
     ]
    }
   ],
   "source": [
    "! spectrofu -h "
   ]
  },
  {
   "cell_type": "code",
   "execution_count": null,
   "id": "1bf27260",
   "metadata": {},
   "outputs": [],
   "source": [
    "#| hide\n",
    "from nbdev import nbdev_export\n",
    "nbdev_export()"
   ]
  },
  {
   "cell_type": "code",
   "execution_count": null,
   "id": "afc3ed0d-d9c8-4916-b1a4-10879c95cd73",
   "metadata": {},
   "outputs": [],
   "source": []
  }
 ],
 "metadata": {
  "kernelspec": {
   "display_name": "Python 3 (ipykernel)",
   "language": "python",
   "name": "python3"
  }
 },
 "nbformat": 4,
 "nbformat_minor": 5
}
