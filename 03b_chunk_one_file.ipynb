{
 "cells": [
  {
   "cell_type": "code",
   "execution_count": null,
   "id": "d404833b",
   "metadata": {},
   "outputs": [],
   "source": [
    "%load_ext autoreload\n",
    "%autoreload 2"
   ]
  },
  {
   "cell_type": "code",
   "execution_count": null,
   "id": "9d2cefc8",
   "metadata": {},
   "outputs": [],
   "source": [
    "#| default_exp chunk_one_file"
   ]
  },
  {
   "cell_type": "markdown",
   "id": "5d79fbe5",
   "metadata": {},
   "source": [
    "# chunk_one_file"
   ]
  },
  {
   "cell_type": "markdown",
   "id": "262d835a",
   "metadata": {},
   "source": [
    "\n",
    "> turns one file into chunks. intended to be called only from `chunkadelic`. See `chunkadelic` for further info.\n",
    "\n",
    "Note: Duplicates the directory structure(s) referenced by input paths. "
   ]
  },
  {
   "cell_type": "code",
   "execution_count": null,
   "id": "0be2e849",
   "metadata": {},
   "outputs": [],
   "source": [
    "#|hide\n",
    "from nbdev.showdoc import *"
   ]
  },
  {
   "cell_type": "code",
   "execution_count": null,
   "id": "5df76a87",
   "metadata": {},
   "outputs": [],
   "source": [
    "#|export\n",
    "import os \n",
    "import torch\n",
    "import torchaudio\n",
    "from aeiou.core import is_silence, load_audio, makedir, get_audio_filenames, normalize_audio, get_dbmax"
   ]
  },
  {
   "cell_type": "code",
   "execution_count": null,
   "id": "519f8740",
   "metadata": {},
   "outputs": [],
   "source": [
    "#|export\n",
    "def blow_chunks(\n",
    "    audio:torch.tensor,  # long audio file to be chunked\n",
    "    new_filename:str,    # stem of new filename(s) to be output as chunks\n",
    "    chunk_size:int,      # how big each audio chunk is, in samples\n",
    "    sr=48000,            # audio sample rate in Hz\n",
    "    norm='False',      # normalize input audio, based on the max of the absolute value ['global','channel', or anything else for None, e.g. False]\n",
    "    spacing=0.5,         # fraction of each chunk to advance between hops\n",
    "    strip=False,    # strip silence: chunks with max power in dB below this value will not be saved to files\n",
    "    thresh=-70,      # threshold in dB for determining what counts as silence\n",
    "    debug=False,     # print debugging information \n",
    "    ):\n",
    "    \"chunks up the audio and saves them with --{i} on the end of each chunk filename\"\n",
    "    if (debug): print(f\"       blow_chunks: audio.shape = {audio.shape}\",flush=True)\n",
    "        \n",
    "    chunk = torch.zeros(audio.shape[0], chunk_size)\n",
    "    _, ext = os.path.splitext(new_filename)\n",
    "    \n",
    "    if norm in ['global','channel']:  audio = normalize_audio(audio, norm)     \n",
    "\n",
    "    spacing = 0.5 if spacing == 0 else spacing # handle degenerate case as a request for the defaults\n",
    "    \n",
    "    start, i = 0, 0\n",
    "    while start < audio.shape[-1]:\n",
    "        out_filename = new_filename.replace(ext, f'--{i}'+ext) \n",
    "        end = min(start + chunk_size, audio.shape[-1])\n",
    "        if end-start < chunk_size:  # needs zero padding on end\n",
    "            chunk = torch.zeros(audio.shape[0], chunk_size)\n",
    "        chunk[:,0:end-start] = audio[:,start:end]\n",
    "        if (not strip) or (not is_silence(chunk, thresh=thresh)):\n",
    "            torchaudio.save(out_filename, chunk, sr)\n",
    "        else:\n",
    "            print(f\"Skipping chunk {out_filename} because it's 'silent' (below threhold of {thresh} dB).\",flush=True)\n",
    "        start, i = start + int(spacing * chunk_size), i + 1\n",
    "    return "
   ]
  },
  {
   "cell_type": "code",
   "execution_count": null,
   "id": "2fc2b499",
   "metadata": {},
   "outputs": [],
   "source": [
    "#|export   \n",
    "def chunk_one_file(\n",
    "    filenames:list,      # list of filenames from which we'll pick one\n",
    "    args,                # output of argparse\n",
    "    file_ind             # index from filenames list to read from\n",
    "    ):\n",
    "    \"this chunks up one file by setting things up and then calling blow_chunks\"\n",
    "    filename = filenames[file_ind]  # this is actually input_path+/+filename\n",
    "    output_path, input_paths = args.output_path, args.input_paths\n",
    "    new_filename = None\n",
    "    if args.debug: print(f\" --- process_one_file: filenames[{file_ind}] = {filename}\\n\", flush=True)\n",
    "    \n",
    "    for ipath in input_paths: # set up the output filename & any folders it needs\n",
    "        if args.nomix and ('Mix' in ipath) and ('Audio Files' in ipath): return  # this is specific to the BDCT dataset, otherwise ignore\n",
    "        if ipath in filename:\n",
    "            last_ipath = ipath.split('/')[-1]           # get the last part of ipath\n",
    "            clean_filename = filename.replace(ipath,'') # remove all of ipath from the front of filename\n",
    "            new_filename = f\"{output_path}/{last_ipath}/{clean_filename}\".replace('//','/') \n",
    "            makedir(os.path.dirname(new_filename))      # we might need to make a directory for the output file\n",
    "            break\n",
    "\n",
    "    if new_filename is None:\n",
    "        print(f\"ERROR: Something went wrong with name of input file {filename}. Skipping.\",flush=True) \n",
    "        return \n",
    "    \n",
    "    try:\n",
    "        if args.debug: print(f\"   About to load filenames[{file_ind}] = {filename}\\n\", flush=True)\n",
    "        audio = load_audio(filename, sr=args.sr, verbose=args.debug)\n",
    "        if args.debug: print(f\"   We loaded the audio, audio.shape = {audio.shape}\\n   Calling blow_chunks...\", flush=True)\n",
    "        blow_chunks(audio, new_filename, args.chunk_size, sr=args.sr, spacing=args.spacing, strip=args.strip, thresh=args.thresh, debug=args.debug)\n",
    "    except Exception as e: \n",
    "        print(f\"Error '{e}' while loading {filename} or writing chunks. Skipping.\", flush=True)\n",
    "\n",
    "    if args.debug: print(f\" --- File {file_ind}: {filename} completed.\\n\", flush=True)\n",
    "    return"
   ]
  },
  {
   "cell_type": "markdown",
   "id": "f3c24fb9",
   "metadata": {},
   "source": [
    "Testing equential execution of for one file at a time, sequentially:"
   ]
  },
  {
   "cell_type": "code",
   "execution_count": null,
   "id": "233f88e6",
   "metadata": {},
   "outputs": [
    {
     "name": "stdout",
     "output_type": "stream",
     "text": [
      "filenames = ['examples/stereo_pewpew.mp3', 'examples/example.wav']\n",
      "file 1/2: examples/stereo_pewpew.mp3:\n",
      " --- process_one_file: filenames[0] = examples/stereo_pewpew.mp3\n",
      "\n",
      "   About to load filenames[0] = examples/stereo_pewpew.mp3\n",
      "\n",
      "Resampling examples/stereo_pewpew.mp3 from 44100.0 Hz to 48000 Hz\n",
      "   We loaded the audio, audio.shape = torch.Size([2, 234505])\n",
      "   Calling blow_chunks...\n",
      "       blow_chunks: audio.shape = torch.Size([2, 234505])\n",
      " --- File 0: examples/stereo_pewpew.mp3 completed.\n",
      "\n",
      "file 2/2: examples/example.wav:\n",
      " --- process_one_file: filenames[1] = examples/example.wav\n",
      "\n",
      "   About to load filenames[1] = examples/example.wav\n",
      "\n",
      "Resampling examples/example.wav from 44100 Hz to 48000 Hz\n",
      "   We loaded the audio, audio.shape = torch.Size([1, 55728])\n",
      "   Calling blow_chunks...\n",
      "       blow_chunks: audio.shape = torch.Size([1, 55728])\n",
      " --- File 1: examples/example.wav completed.\n",
      "\n"
     ]
    }
   ],
   "source": [
    "class AttrDict(dict): # cf. https://stackoverflow.com/a/14620633/4259243\n",
    "    \"setup an object to hold args\"\n",
    "    def __init__(self, *args, **kwargs):\n",
    "        super(AttrDict, self).__init__(*args, **kwargs)\n",
    "        self.__dict__ = self\n",
    "        \n",
    "args = AttrDict()  # setup something akin to what argparse gives\n",
    "args.update( {'output_path':'test_chunks', 'input_paths':['examples/'], 'sr':48000, 'chunk_size':131072, 'spacing':0.5,\n",
    "    'norm':'global', 'strip':False, 'thresh':-70, 'nomix':False, 'verbose':True,\n",
    "    'workers':min(32, os.cpu_count() + 4), 'debug':True })\n",
    "\n",
    "filenames = get_audio_filenames(args.input_paths)\n",
    "print(\"filenames =\",filenames)\n",
    "for i in range(len(filenames)):\n",
    "    print(f\"file {i+1}/{len(filenames)}: {filenames[i]}:\")\n",
    "    chunk_one_file(filenames, args, i)"
   ]
  },
  {
   "cell_type": "code",
   "execution_count": null,
   "id": "1bf27260",
   "metadata": {},
   "outputs": [],
   "source": [
    "#| hide\n",
    "from nbdev import nbdev_export\n",
    "nbdev_export()"
   ]
  },
  {
   "cell_type": "code",
   "execution_count": null,
   "id": "193feea4",
   "metadata": {},
   "outputs": [],
   "source": []
  }
 ],
 "metadata": {
  "kernelspec": {
   "display_name": "Python 3 (ipykernel)",
   "language": "python",
   "name": "python3"
  }
 },
 "nbformat": 4,
 "nbformat_minor": 5
}
