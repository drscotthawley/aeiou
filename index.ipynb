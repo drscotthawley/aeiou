{
 "cells": [
  {
   "cell_type": "code",
   "execution_count": null,
   "metadata": {},
   "outputs": [],
   "source": [
    "#|hide\n",
    "from aeiou.core import *"
   ]
  },
  {
   "cell_type": "markdown",
   "metadata": {},
   "source": [
    "# aeiou\n",
    "\n",
    "> audio engineering i/o utils."
   ]
  },
  {
   "cell_type": "markdown",
   "metadata": {},
   "source": [
    "Pronounced \"[ayoo](https://youtu.be/Hv6RbEOlqRo?t=24)\""
   ]
  },
  {
   "cell_type": "markdown",
   "metadata": {},
   "source": [
    "## Install"
   ]
  },
  {
   "cell_type": "markdown",
   "metadata": {},
   "source": [
    "It is recommended you install the latest version from GitHub via \n",
    "\n",
    "```sh \n",
    "pip install git+https://github.com/drscotthawley/aeiou.git\n",
    "```\n",
    "However binaries will be occasionally updated on PyPI, installed via\n",
    "\n",
    "```sh\n",
    "pip install aeiou\n",
    "```"
   ]
  },
  {
   "cell_type": "markdown",
   "metadata": {},
   "source": [
    "## How to use"
   ]
  },
  {
   "cell_type": "markdown",
   "metadata": {},
   "source": [
    "This is a series of utility routines developed in support of multiple projects within the [Harmonai](https://www.harmonai.org/) organization.  See individual documentation pages for more specific instructions on how these can be used. Note that this is *research code*, so it's a) in flux and b) in need of improvements to documenation. "
   ]
  },
  {
   "cell_type": "markdown",
   "metadata": {},
   "source": [
    "## Documentation"
   ]
  },
  {
   "cell_type": "markdown",
   "metadata": {},
   "source": [
    "Documentation for this library is hosted on the [aeiou GitHub Pages site](https://drscotthawley.github.io/aeiou/)."
   ]
  },
  {
   "cell_type": "markdown",
   "metadata": {},
   "source": [
    "## Contributing"
   ]
  },
  {
   "cell_type": "markdown",
   "metadata": {},
   "source": [
    "Contributions are welcome -- especially for improvements to documentation! To contribute:\n",
    "\n",
    "1. Fork this repo and then clone your fork.  This library is written entirely in [nbdev](https://nbdev.fast.ai/) version 2, using Jupyter notebooks.  \n",
    "\n",
    "1. [Install nbdev](https://nbdev.fast.ai/getting_started.html#install) and then you can edit the Jupyter notebooks.  \n",
    "\n",
    "1. After editing notebooks, run `nbdev_prepare`   \n",
    "\n",
    "1. If that succeeds, you can do `git add *.ipynb aeiou/*.py; git commit` and then `git push` to get your changes to back to your fork on GitHub.  \n",
    "\n",
    "1. Then send a Pull Request from your fork to the main `aeiou` repository. "
   ]
  },
  {
   "cell_type": "markdown",
   "metadata": {},
   "source": [
    "## Attribution\n",
    "```bibtex\n",
    "@misc{aeiou,\n",
    "  author = {Scott H. Hawley},\n",
    "  title = {aeiou: audio engineering i/o utilities},\n",
    "  year  = {2022},\n",
    "  url   = {https://github.com/drscotthawley/aeiou},\n",
    "}\n",
    "```\n",
    "Copyright (c) Scott H. Hawley, 2022. "
   ]
  },
  {
   "cell_type": "markdown",
   "metadata": {},
   "source": [
    "## License\n",
    "[License](https://github.com/drscotthawley/aeiou/blob/main/LICENSE) is APACHE 2.0. "
   ]
  },
  {
   "cell_type": "code",
   "execution_count": null,
   "metadata": {},
   "outputs": [],
   "source": [
    "#| hide\n",
    "from nbdev import nbdev_export\n",
    "nbdev_export()"
   ]
  }
 ],
 "metadata": {
  "kernelspec": {
   "display_name": "Pybit 3 (ipykernel)",
   "language": "python",
   "name": "python3"
  }
 },
 "nbformat": 4,
 "nbformat_minor": 4
}
